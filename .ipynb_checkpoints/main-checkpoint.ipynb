{
 "cells": [
  {
   "cell_type": "code",
   "execution_count": null,
   "id": "initial_id",
   "metadata": {
    "collapsed": true
   },
   "outputs": [],
   "source": []
  },
  {
   "cell_type": "code",
   "outputs": [
    {
     "name": "stdout",
     "output_type": "stream",
     "text": [
      "小王在三月的工资为5000\n"
     ]
    }
   ],
   "source": [
    "name=\"小王\"\n",
    "month=\"三月\"\n",
    "print(\"{}在{}的工资为{}\".format(name, month,5000))"
   ],
   "metadata": {
    "collapsed": false,
    "ExecuteTime": {
     "end_time": "2024-03-21T09:42:17.639150Z",
     "start_time": "2024-03-21T09:42:17.621898Z"
    }
   },
   "id": "b2ce4dc23adafb21",
   "execution_count": 56
  },
  {
   "cell_type": "code",
   "outputs": [
    {
     "ename": "AttributeError",
     "evalue": "'dict' object has no attribute 'to'",
     "output_type": "error",
     "traceback": [
      "\u001B[1;31m---------------------------------------------------------------------------\u001B[0m",
      "\u001B[1;31mAttributeError\u001B[0m                            Traceback (most recent call last)",
      "Input \u001B[1;32mIn [61]\u001B[0m, in \u001B[0;36m<cell line: 30>\u001B[1;34m()\u001B[0m\n\u001B[0;32m     28\u001B[0m \u001B[38;5;66;03m# 调用推理函数\u001B[39;00m\n\u001B[0;32m     29\u001B[0m model_path \u001B[38;5;241m=\u001B[39m \u001B[38;5;124m'\u001B[39m\u001B[38;5;124mbest.pt\u001B[39m\u001B[38;5;124m'\u001B[39m  \u001B[38;5;66;03m# 确保这是你的模型文件的正确路径\u001B[39;00m\n\u001B[1;32m---> 30\u001B[0m \u001B[43minfer\u001B[49m\u001B[43m(\u001B[49m\u001B[43mmodel_path\u001B[49m\u001B[43m)\u001B[49m\n",
      "Input \u001B[1;32mIn [61]\u001B[0m, in \u001B[0;36minfer\u001B[1;34m(model_path)\u001B[0m\n\u001B[0;32m     12\u001B[0m device \u001B[38;5;241m=\u001B[39m torch\u001B[38;5;241m.\u001B[39mdevice(\u001B[38;5;124m'\u001B[39m\u001B[38;5;124mcuda\u001B[39m\u001B[38;5;124m'\u001B[39m \u001B[38;5;28;01mif\u001B[39;00m torch\u001B[38;5;241m.\u001B[39mcuda\u001B[38;5;241m.\u001B[39mis_available() \u001B[38;5;28;01melse\u001B[39;00m \u001B[38;5;124m'\u001B[39m\u001B[38;5;124mcpu\u001B[39m\u001B[38;5;124m'\u001B[39m)\n\u001B[0;32m     14\u001B[0m \u001B[38;5;66;03m# 加载模型\u001B[39;00m\n\u001B[1;32m---> 15\u001B[0m model \u001B[38;5;241m=\u001B[39m \u001B[43mload_model\u001B[49m\u001B[43m(\u001B[49m\u001B[43mmodel_path\u001B[49m\u001B[43m,\u001B[49m\u001B[43m \u001B[49m\u001B[43mdevice\u001B[49m\u001B[43m)\u001B[49m\n\u001B[0;32m     16\u001B[0m model\u001B[38;5;241m.\u001B[39meval()  \u001B[38;5;66;03m# 设置为评估模式\u001B[39;00m\n\u001B[0;32m     18\u001B[0m \u001B[38;5;66;03m# 准备输入数据\u001B[39;00m\n",
      "Input \u001B[1;32mIn [61]\u001B[0m, in \u001B[0;36mload_model\u001B[1;34m(model_path, device)\u001B[0m\n\u001B[0;32m      5\u001B[0m     device \u001B[38;5;241m=\u001B[39m torch\u001B[38;5;241m.\u001B[39mdevice(\u001B[38;5;124m'\u001B[39m\u001B[38;5;124mcuda\u001B[39m\u001B[38;5;124m'\u001B[39m \u001B[38;5;28;01mif\u001B[39;00m torch\u001B[38;5;241m.\u001B[39mcuda\u001B[38;5;241m.\u001B[39mis_available() \u001B[38;5;28;01melse\u001B[39;00m \u001B[38;5;124m'\u001B[39m\u001B[38;5;124mcpu\u001B[39m\u001B[38;5;124m'\u001B[39m)\n\u001B[0;32m      6\u001B[0m model \u001B[38;5;241m=\u001B[39m torch\u001B[38;5;241m.\u001B[39mload(model_path, map_location\u001B[38;5;241m=\u001B[39mdevice)\n\u001B[1;32m----> 7\u001B[0m \u001B[38;5;28;01mreturn\u001B[39;00m \u001B[43mmodel\u001B[49m\u001B[38;5;241;43m.\u001B[39;49m\u001B[43mto\u001B[49m(device)\n",
      "\u001B[1;31mAttributeError\u001B[0m: 'dict' object has no attribute 'to'"
     ]
    }
   ],
   "source": [
    "\n",
    "import torch.nn.functional as F\n",
    "def load_model(model_path, device=None):\n",
    "    if device is None:\n",
    "        device = torch.device('cuda' if torch.cuda.is_available() else 'cpu')\n",
    "    model = torch.load(model_path, map_location=device)\n",
    "    return model.to(device)\n",
    "def prepare_input(device, batch_size=1, channels=3, height=640, width=640):\n",
    "    x = torch.randn(batch_size, channels, height, width, device=device)\n",
    "    return x\n",
    "def infer(model_path):\n",
    "    device = torch.device('cuda' if torch.cuda.is_available() else 'cpu')\n",
    "    \n",
    "    # 加载模型\n",
    "    model = load_model(model_path, device)\n",
    "    model.eval()  # 设置为评估模式\n",
    "    \n",
    "    # 准备输入数据\n",
    "    x = prepare_input(device)\n",
    "    \n",
    "    # 执行前向传播\n",
    "    with torch.no_grad():\n",
    "        output = model(x)\n",
    "    \n",
    "    # 打印输出的形状（作为示例）\n",
    "    print(output.size())\n",
    "\n",
    "# 调用推理函数\n",
    "model_path = 'best.pt'  # 确保这是你的模型文件的正确路径\n",
    "infer(model_path)\n"
   ],
   "metadata": {
    "collapsed": false,
    "ExecuteTime": {
     "end_time": "2024-03-21T09:46:58.312864Z",
     "start_time": "2024-03-21T09:46:58.190631Z"
    }
   },
   "id": "36a3f640b19d4fd8",
   "execution_count": 61
  },
  {
   "cell_type": "code",
   "outputs": [
    {
     "name": "stdout",
     "output_type": "stream",
     "text": [
      "Webcam found at index: 0\n",
      "Webcam found at index: 1\n",
      "Webcam found at index: 2\n"
     ]
    }
   ],
   "source": [
    "import cv2\n",
    "\n",
    "for i in range(100):\n",
    "    cap = cv2.VideoCapture(i)\n",
    "    if cap.isOpened():\n",
    "        print('Webcam found at index: ' + str(i))\n",
    "        cap.release()"
   ],
   "metadata": {
    "collapsed": false,
    "ExecuteTime": {
     "end_time": "2024-03-22T05:02:51.933839Z",
     "start_time": "2024-03-22T05:02:38.898795Z"
    }
   },
   "id": "37d52c28af6ed76e",
   "execution_count": 1
  },
  {
   "cell_type": "code",
   "outputs": [],
   "source": [
    "import cv2\n",
    " \n",
    "video = cv2.VideoCapture(\"rtmp://localhost:1935/live/123\")\n",
    "fps = video.get(cv2.CAP_PROP_FPS)\n",
    "print(fps)\n",
    "size = (int(video.get(cv2.CAP_PROP_FRAME_WIDTH)), int(video.get(cv2.CAP_PROP_FRAME_HEIGHT)))\n",
    "print(size)\n",
    "while True:\n",
    "    ret, frame = video.read()\n",
    "    cv2.imshow(\"A video\", frame)\n",
    "    c = cv2.waitKey(1)\n",
    "    if c == 27:\n",
    "        break\n",
    "video.release()\n",
    "cv2.destroyAllWindows()"
   ],
   "metadata": {
    "collapsed": false,
    "ExecuteTime": {
     "start_time": "2024-03-22T05:56:37.681700Z"
    }
   },
   "id": "b8bda6d7db967410",
   "execution_count": null
  },
  {
   "cell_type": "code",
   "outputs": [],
   "source": [
    "import face_recognition\n",
    "\n",
    "# 加载第一张照片并识别面部特征\n",
    "image1 = face_recognition.load_image_file(\"C:/Users/wsh/Pictures/Camera Roll/f1.jpg\")\n",
    "encoding1 = face_recognition.face_encodings(image1)[0]\n",
    "\n",
    "# 加载第二张照片并识别面部特征\n",
    "image2 = face_recognition.load_image_file(\"C:/Users/wsh/Pictures/Camera Roll/f2.jpg\")\n",
    "encoding2 = face_recognition.face_encodings(image2)[0]\n",
    "\n",
    "# 比较两个面部特征\n",
    "results = face_recognition.compare_faces([encoding1], encoding2)\n",
    "\n",
    "if results[0]:\n",
    "    print(\"这两张照片是同一个人。\")\n",
    "else:\n",
    "    print(\"这两张照片不是同一个人。\")"
   ],
   "metadata": {
    "collapsed": false,
    "is_executing": true,
    "ExecuteTime": {
     "start_time": "2024-03-23T09:34:20.233106Z"
    }
   },
   "id": "60b650cd9a6563f8",
   "execution_count": null
  }
 ],
 "metadata": {
  "kernelspec": {
   "display_name": "Python 3",
   "language": "python",
   "name": "python3"
  },
  "language_info": {
   "codemirror_mode": {
    "name": "ipython",
    "version": 2
   },
   "file_extension": ".py",
   "mimetype": "text/x-python",
   "name": "python",
   "nbconvert_exporter": "python",
   "pygments_lexer": "ipython2",
   "version": "2.7.6"
  }
 },
 "nbformat": 4,
 "nbformat_minor": 5
}
