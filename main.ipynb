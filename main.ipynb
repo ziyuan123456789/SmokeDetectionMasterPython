{
 "cells": [
  {
   "cell_type": "code",
   "execution_count": null,
   "id": "initial_id",
   "metadata": {
    "collapsed": true
   },
   "outputs": [],
   "source": []
  },
  {
   "cell_type": "code",
   "outputs": [
    {
     "name": "stdout",
     "output_type": "stream",
     "text": [
      "小王在三月的工资为5000\n"
     ]
    }
   ],
   "source": [
    "name=\"小王\"\n",
    "month=\"三月\"\n",
    "print(\"{}在{}的工资为{}\".format(name, month,5000))"
   ],
   "metadata": {
    "collapsed": false,
    "ExecuteTime": {
     "end_time": "2024-03-21T09:42:17.639150Z",
     "start_time": "2024-03-21T09:42:17.621898Z"
    }
   },
   "id": "b2ce4dc23adafb21",
   "execution_count": 56
  },
  {
   "cell_type": "code",
   "outputs": [
    {
     "ename": "AttributeError",
     "evalue": "'dict' object has no attribute 'to'",
     "output_type": "error",
     "traceback": [
      "\u001B[1;31m---------------------------------------------------------------------------\u001B[0m",
      "\u001B[1;31mAttributeError\u001B[0m                            Traceback (most recent call last)",
      "Input \u001B[1;32mIn [61]\u001B[0m, in \u001B[0;36m<cell line: 30>\u001B[1;34m()\u001B[0m\n\u001B[0;32m     28\u001B[0m \u001B[38;5;66;03m# 调用推理函数\u001B[39;00m\n\u001B[0;32m     29\u001B[0m model_path \u001B[38;5;241m=\u001B[39m \u001B[38;5;124m'\u001B[39m\u001B[38;5;124mbest.pt\u001B[39m\u001B[38;5;124m'\u001B[39m  \u001B[38;5;66;03m# 确保这是你的模型文件的正确路径\u001B[39;00m\n\u001B[1;32m---> 30\u001B[0m \u001B[43minfer\u001B[49m\u001B[43m(\u001B[49m\u001B[43mmodel_path\u001B[49m\u001B[43m)\u001B[49m\n",
      "Input \u001B[1;32mIn [61]\u001B[0m, in \u001B[0;36minfer\u001B[1;34m(model_path)\u001B[0m\n\u001B[0;32m     12\u001B[0m device \u001B[38;5;241m=\u001B[39m torch\u001B[38;5;241m.\u001B[39mdevice(\u001B[38;5;124m'\u001B[39m\u001B[38;5;124mcuda\u001B[39m\u001B[38;5;124m'\u001B[39m \u001B[38;5;28;01mif\u001B[39;00m torch\u001B[38;5;241m.\u001B[39mcuda\u001B[38;5;241m.\u001B[39mis_available() \u001B[38;5;28;01melse\u001B[39;00m \u001B[38;5;124m'\u001B[39m\u001B[38;5;124mcpu\u001B[39m\u001B[38;5;124m'\u001B[39m)\n\u001B[0;32m     14\u001B[0m \u001B[38;5;66;03m# 加载模型\u001B[39;00m\n\u001B[1;32m---> 15\u001B[0m model \u001B[38;5;241m=\u001B[39m \u001B[43mload_model\u001B[49m\u001B[43m(\u001B[49m\u001B[43mmodel_path\u001B[49m\u001B[43m,\u001B[49m\u001B[43m \u001B[49m\u001B[43mdevice\u001B[49m\u001B[43m)\u001B[49m\n\u001B[0;32m     16\u001B[0m model\u001B[38;5;241m.\u001B[39meval()  \u001B[38;5;66;03m# 设置为评估模式\u001B[39;00m\n\u001B[0;32m     18\u001B[0m \u001B[38;5;66;03m# 准备输入数据\u001B[39;00m\n",
      "Input \u001B[1;32mIn [61]\u001B[0m, in \u001B[0;36mload_model\u001B[1;34m(model_path, device)\u001B[0m\n\u001B[0;32m      5\u001B[0m     device \u001B[38;5;241m=\u001B[39m torch\u001B[38;5;241m.\u001B[39mdevice(\u001B[38;5;124m'\u001B[39m\u001B[38;5;124mcuda\u001B[39m\u001B[38;5;124m'\u001B[39m \u001B[38;5;28;01mif\u001B[39;00m torch\u001B[38;5;241m.\u001B[39mcuda\u001B[38;5;241m.\u001B[39mis_available() \u001B[38;5;28;01melse\u001B[39;00m \u001B[38;5;124m'\u001B[39m\u001B[38;5;124mcpu\u001B[39m\u001B[38;5;124m'\u001B[39m)\n\u001B[0;32m      6\u001B[0m model \u001B[38;5;241m=\u001B[39m torch\u001B[38;5;241m.\u001B[39mload(model_path, map_location\u001B[38;5;241m=\u001B[39mdevice)\n\u001B[1;32m----> 7\u001B[0m \u001B[38;5;28;01mreturn\u001B[39;00m \u001B[43mmodel\u001B[49m\u001B[38;5;241;43m.\u001B[39;49m\u001B[43mto\u001B[49m(device)\n",
      "\u001B[1;31mAttributeError\u001B[0m: 'dict' object has no attribute 'to'"
     ]
    }
   ],
   "source": [
    "\n",
    "import torch.nn.functional as F\n",
    "def load_model(model_path, device=None):\n",
    "    if device is None:\n",
    "        device = torch.device('cuda' if torch.cuda.is_available() else 'cpu')\n",
    "    model = torch.load(model_path, map_location=device)\n",
    "    return model.to(device)\n",
    "def prepare_input(device, batch_size=1, channels=3, height=640, width=640):\n",
    "    x = torch.randn(batch_size, channels, height, width, device=device)\n",
    "    return x\n",
    "def infer(model_path):\n",
    "    device = torch.device('cuda' if torch.cuda.is_available() else 'cpu')\n",
    "    \n",
    "    # 加载模型\n",
    "    model = load_model(model_path, device)\n",
    "    model.eval()  # 设置为评估模式\n",
    "    \n",
    "    # 准备输入数据\n",
    "    x = prepare_input(device)\n",
    "    \n",
    "    # 执行前向传播\n",
    "    with torch.no_grad():\n",
    "        output = model(x)\n",
    "    \n",
    "    # 打印输出的形状（作为示例）\n",
    "    print(output.size())\n",
    "\n",
    "# 调用推理函数\n",
    "model_path = 'best.pt'  # 确保这是你的模型文件的正确路径\n",
    "infer(model_path)\n"
   ],
   "metadata": {
    "collapsed": false,
    "ExecuteTime": {
     "end_time": "2024-03-21T09:46:58.312864Z",
     "start_time": "2024-03-21T09:46:58.190631Z"
    }
   },
   "id": "36a3f640b19d4fd8",
   "execution_count": 61
  },
  {
   "cell_type": "code",
   "outputs": [
    {
     "name": "stdout",
     "output_type": "stream",
     "text": [
      "Webcam found at index: 0\n",
      "Webcam found at index: 1\n",
      "Webcam found at index: 2\n"
     ]
    }
   ],
   "source": [
    "import cv2\n",
    "\n",
    "for i in range(100):\n",
    "    cap = cv2.VideoCapture(i)\n",
    "    if cap.isOpened():\n",
    "        print('Webcam found at index: ' + str(i))\n",
    "        cap.release()"
   ],
   "metadata": {
    "collapsed": false,
    "ExecuteTime": {
     "end_time": "2024-03-22T05:02:51.933839Z",
     "start_time": "2024-03-22T05:02:38.898795Z"
    }
   },
   "id": "37d52c28af6ed76e",
   "execution_count": 1
  },
  {
   "cell_type": "code",
   "outputs": [],
   "source": [
    "import cv2\n",
    " \n",
    "video = cv2.VideoCapture(\"rtmp://localhost:1935/live/123\")\n",
    "fps = video.get(cv2.CAP_PROP_FPS)\n",
    "print(fps)\n",
    "size = (int(video.get(cv2.CAP_PROP_FRAME_WIDTH)), int(video.get(cv2.CAP_PROP_FRAME_HEIGHT)))\n",
    "print(size)\n",
    "while True:\n",
    "    ret, frame = video.read()\n",
    "    cv2.imshow(\"A video\", frame)\n",
    "    c = cv2.waitKey(1)\n",
    "    if c == 27:\n",
    "        break\n",
    "video.release()\n",
    "cv2.destroyAllWindows()"
   ],
   "metadata": {
    "collapsed": false,
    "ExecuteTime": {
     "start_time": "2024-03-22T05:56:37.681700Z"
    }
   },
   "id": "b8bda6d7db967410",
   "execution_count": null
  },
  {
   "cell_type": "code",
   "outputs": [],
   "source": [
    "import face_recognition\n",
    "\n",
    "# 加载第一张照片并识别面部特征\n",
    "image1 = face_recognition.load_image_file(\"C:/Users/wsh/Pictures/Camera Roll/f1.jpg\")\n",
    "encoding1 = face_recognition.face_encodings(image1)[0]\n",
    "\n",
    "# 加载第二张照片并识别面部特征\n",
    "image2 = face_recognition.load_image_file(\"C:/Users/wsh/Pictures/Camera Roll/f2.jpg\")\n",
    "encoding2 = face_recognition.face_encodings(image2)[0]\n",
    "\n",
    "# 比较两个面部特征\n",
    "results = face_recognition.compare_faces([encoding1], encoding2)\n",
    "\n",
    "if results[0]:\n",
    "    print(\"这两张照片是同一个人。\")\n",
    "else:\n",
    "    print(\"这两张照片不是同一个人。\")"
   ],
   "metadata": {
    "collapsed": false,
    "ExecuteTime": {
     "start_time": "2024-03-23T09:34:57.719094Z"
    }
   },
   "id": "60b650cd9a6563f8",
   "execution_count": null
  },
  {
   "cell_type": "code",
   "outputs": [
    {
     "name": "stderr",
     "output_type": "stream",
     "text": [
      "YOLOv5  edf1a57 torch 2.2.0+cu118 CUDA:0 (NVIDIA GeForce RTX 2050, 4096MiB)\n",
      "\n",
      "Fusing layers... \n",
      "YOLOv5l summary: 400 layers, 47370047 parameters, 0 gradients\n"
     ]
    },
    {
     "name": "stdout",
     "output_type": "stream",
     "text": [
      "抽了\n",
      "抽了\n",
      "抽了\n",
      "抽了\n",
      "抽了\n",
      "抽了\n",
      "抽了\n",
      "抽了\n",
      "抽了\n",
      "抽了\n",
      "抽了\n",
      "抽了\n",
      "抽了\n",
      "抽了\n",
      "抽了\n",
      "抽了\n",
      "抽了\n",
      "抽了\n",
      "抽了\n",
      "抽了\n",
      "抽了\n",
      "抽了\n",
      "抽了\n",
      "抽了\n",
      "抽了\n",
      "终止\n",
      "============\n"
     ]
    }
   ],
   "source": [
    "import io\n",
    "import pstats\n",
    "import time\n",
    "from pyexpat import model\n",
    "import cv2\n",
    "import numpy as np\n",
    "import torch\n",
    "from configList import *\n",
    "from utils.augmentations import letterbox\n",
    "from utils.general import check_img_size, non_max_suppression, scale_coords\n",
    "from utils.plots import Annotator\n",
    "WEIGHTS = 'weights/yolov5n.pt'\n",
    "IMGSZ = [640, 640]  # 图像尺寸\n",
    "CONF_THRES = 0.5  # 置信度阈值\n",
    "IOU_THRES = 0.5  # IOU阈值\n",
    "MAX_DET = 1000  # 最大检测数量\n",
    "LINE_THICKNESS = 1  # 线条厚度\n",
    "HIDE_CONF = False  # 是否隐藏置信度\n",
    "HIDE_LABELS = None  # 是否隐藏标签\n",
    "model, device, half, stride, names = get_model()\n",
    "imgsz = check_img_size([640, 640], s=stride)\n",
    "def colors(index, bright=True):\n",
    "    color_list = [(0, 0, 255), (0, 255, 0), (255, 0, 0)]\n",
    "    return color_list[index % len(color_list)]\n",
    "from models.experimental import attempt_load\n",
    "from utils.torch_utils import select_device\n",
    "\n",
    "WEIGHTS = \"D:/Smoke/SmokeDetectionMasterPython/quantized_model.pt\"\n",
    "# WEIGHTS = \"D:/BaiduNetdiskDownload/smoking_calling_weight/exp2052/weights/best.pt\"\n",
    "\n",
    "\n",
    "def get_model():\n",
    "    device = select_device('')\n",
    "    half = device.type != 'cpu'\n",
    "    model = attempt_load(WEIGHTS, map_location=device)\n",
    "    stride = int(model.stride.max())\n",
    "    names = model.module.names if hasattr(model, 'module') else model.names\n",
    "    if half:\n",
    "        model.half()\n",
    "    return model, device, half, stride, names\n",
    "def pred_img_optimized_async(img0, model, device, imgsz, names, conf_thres, iou_thres, half,\n",
    "                                   line_thickness, hide_labels, hide_conf, max_det):\n",
    "        img = letterbox(img0, new_shape=imgsz, auto=True)[0]\n",
    "        img = img.transpose((2, 0, 1))[::-1]\n",
    "        img = np.ascontiguousarray(img)\n",
    "\n",
    "        img = torch.from_numpy(img).to(device)\n",
    "        img = img.half() if half else img.float()\n",
    "        img /= 255.0  # 归一化\n",
    "        if img.ndimension() == 3:\n",
    "            img = img.unsqueeze(0)\n",
    "\n",
    "        im0 = img0.copy()\n",
    "        annotator = Annotator(im0, line_width=line_thickness, example=str(names))\n",
    "\n",
    "        pred = model(img, augment=False, visualize=False)[0]\n",
    "        pred = non_max_suppression(pred, conf_thres, iou_thres, classes=None, agnostic=False, max_det=max_det)\n",
    "\n",
    "        detections = []\n",
    "        det = pred[0]\n",
    "        if len(det):\n",
    "            det[:, :4] = scale_coords(img.shape[2:], det[:, :4], im0.shape).round()\n",
    "            for *xyxy, conf, cls in reversed(det):\n",
    "                c = int(cls)\n",
    "                detections.append({'coords': tuple(map(int, xyxy)), 'confidence': conf.item()})\n",
    "\n",
    "                label = None if hide_labels else f'{names[c]} {conf:.2f}' if not hide_conf else names[c]\n",
    "                annotator.box_label(xyxy, label, color=colors(c))\n",
    "\n",
    "        return im0, detections\n",
    "cap = cv2.VideoCapture(0)\n",
    "\n",
    "# 用于计算FPS的变量\n",
    "frame_count = 0\n",
    "start_time = time.time()\n",
    "def fx():\n",
    "    global frame_count, start_time\n",
    "    start_time = time.time()\n",
    "    frame_count = 0\n",
    "\n",
    "    while True:\n",
    "        ret, frame = cap.read()\n",
    "        if not ret:\n",
    "            break\n",
    "\n",
    "        # 对当前帧进行处理和预测\n",
    "        img, detections = pred_img_optimized_async(frame, model, device, IMGSZ, names, CONF_THRES,\n",
    "                                                    IOU_THRES, half, LINE_THICKNESS, HIDE_LABELS, HIDE_CONF,\n",
    "                                                    MAX_DET)\n",
    "        if detections:\n",
    "            print(\"抽了\")\n",
    "        \n",
    "        # 显示处理后的图像\n",
    "        frame_count += 1\n",
    "        elapsed_time = time.time() - start_time\n",
    "        fps = frame_count / elapsed_time\n",
    "        ret, buffer = cv2.imencode('.jpg', img, [int(cv2.IMWRITE_JPEG_QUALITY), 70])\n",
    "        if not ret:\n",
    "            print(\"Failed to encode frame\")\n",
    "\n",
    "        if elapsed_time >= 20: \n",
    "            print(\"终止\")# 运行大约30秒后中断\n",
    "            return \n",
    "\n",
    "\n",
    "if __name__ == \"__main__\":\n",
    "    import cProfile\n",
    "    profiler = cProfile.Profile()\n",
    "    profiler.enable()\n",
    "    fx()\n",
    "    profiler.disable()\n",
    "    print(\"============\")\n",
    "    \n",
    "    # 保存分析结果到文件\n",
    "    stats = pstats.Stats(profiler).sort_stats('cumtime')\n",
    "    stats.dump_stats('profiling_results.prof')\n",
    "    \n",
    "    # 导出为csv\n",
    "    s = io.StringIO()\n",
    "    stats = pstats.Stats('profiling_results.prof', stream=s)\n",
    "    stats.sort_stats('cumtime')\n",
    "    stats.print_stats()\n",
    "    \n",
    "    # 获取性能数据作为CSV格式\n",
    "    profiling_data = s.getvalue()\n",
    "    # 将数据转换为CSV格式\n",
    "    profiling_data = \"ncalls\" + profiling_data.split(\"ncalls\")[-1]\n",
    "    profiling_data = '\\n'.join([','.join(line.rstrip().split(None, 5)) for line in profiling_data.split('\\n')])\n",
    "    \n",
    "    # 将CSV数据保存到文件\n",
    "    with open('profiling_results.csv', 'w') as f:\n",
    "        f.write(profiling_data)\n",
    "    cap.release()\n",
    "    # cv2.destroyAllWindows()"
   ],
   "metadata": {
    "collapsed": false,
    "ExecuteTime": {
     "end_time": "2024-03-30T13:03:22.767721Z",
     "start_time": "2024-03-30T13:02:51.931441Z"
    }
   },
   "id": "b76dda433f8aa25e",
   "execution_count": 29
  },
  {
   "cell_type": "code",
   "outputs": [
    {
     "data": {
      "text/plain": "     cumtime                          filename:lineno(function)\n0     20.014  C:\\Users\\wsh\\AppData\\Local\\Temp\\ipykernel_2337...\n1     13.645  C:\\Users\\wsh\\AppData\\Local\\Temp\\ipykernel_2337...\n2      7.156  D:\\Smoke\\SmokeDetectionMasterPython\\utils\\gene...\n3      5.880  D:\\conda_home\\envs\\yolov5-master\\lib\\site-pack...\n4      5.878  D:\\conda_home\\envs\\yolov5-master\\lib\\site-pack...\n..       ...                                                ...\n145    0.000                   {built-in method torch.meshgrid}\n146    0.000             {method 'startswith' of 'str' objects}\n147    0.000                        {built-in method nt.getpid}\n148    0.000  D:\\conda_home\\envs\\yolov5-master\\lib\\site-pack...\n185    0.000   {method 'disable' of '_lsprof.Profiler' objects}\n\n[186 rows x 2 columns]",
      "text/html": "<div>\n<style scoped>\n    .dataframe tbody tr th:only-of-type {\n        vertical-align: middle;\n    }\n\n    .dataframe tbody tr th {\n        vertical-align: top;\n    }\n\n    .dataframe thead th {\n        text-align: right;\n    }\n</style>\n<table border=\"1\" class=\"dataframe\">\n  <thead>\n    <tr style=\"text-align: right;\">\n      <th></th>\n      <th>cumtime</th>\n      <th>filename:lineno(function)</th>\n    </tr>\n  </thead>\n  <tbody>\n    <tr>\n      <th>0</th>\n      <td>20.014</td>\n      <td>C:\\Users\\wsh\\AppData\\Local\\Temp\\ipykernel_2337...</td>\n    </tr>\n    <tr>\n      <th>1</th>\n      <td>13.645</td>\n      <td>C:\\Users\\wsh\\AppData\\Local\\Temp\\ipykernel_2337...</td>\n    </tr>\n    <tr>\n      <th>2</th>\n      <td>7.156</td>\n      <td>D:\\Smoke\\SmokeDetectionMasterPython\\utils\\gene...</td>\n    </tr>\n    <tr>\n      <th>3</th>\n      <td>5.880</td>\n      <td>D:\\conda_home\\envs\\yolov5-master\\lib\\site-pack...</td>\n    </tr>\n    <tr>\n      <th>4</th>\n      <td>5.878</td>\n      <td>D:\\conda_home\\envs\\yolov5-master\\lib\\site-pack...</td>\n    </tr>\n    <tr>\n      <th>...</th>\n      <td>...</td>\n      <td>...</td>\n    </tr>\n    <tr>\n      <th>145</th>\n      <td>0.000</td>\n      <td>{built-in method torch.meshgrid}</td>\n    </tr>\n    <tr>\n      <th>146</th>\n      <td>0.000</td>\n      <td>{method 'startswith' of 'str' objects}</td>\n    </tr>\n    <tr>\n      <th>147</th>\n      <td>0.000</td>\n      <td>{built-in method nt.getpid}</td>\n    </tr>\n    <tr>\n      <th>148</th>\n      <td>0.000</td>\n      <td>D:\\conda_home\\envs\\yolov5-master\\lib\\site-pack...</td>\n    </tr>\n    <tr>\n      <th>185</th>\n      <td>0.000</td>\n      <td>{method 'disable' of '_lsprof.Profiler' objects}</td>\n    </tr>\n  </tbody>\n</table>\n<p>186 rows × 2 columns</p>\n</div>"
     },
     "execution_count": 31,
     "metadata": {},
     "output_type": "execute_result"
    }
   ],
   "source": [
    "import pandas as pd\n",
    "\n",
    "# 读取CSV\n",
    "df = pd.read_csv('profiling_results.csv')\n",
    "sorted_df = df[['cumtime', 'filename:lineno(function)']].sort_values(by='cumtime', ascending=False)\n",
    "\n",
    "sorted_df"
   ],
   "metadata": {
    "collapsed": false,
    "ExecuteTime": {
     "end_time": "2024-03-30T13:14:25.373723Z",
     "start_time": "2024-03-30T13:14:25.351587Z"
    }
   },
   "id": "e117046f3c29cdca",
   "execution_count": 31
  }
 ],
 "metadata": {
  "kernelspec": {
   "display_name": "Python 3",
   "language": "python",
   "name": "python3"
  },
  "language_info": {
   "codemirror_mode": {
    "name": "ipython",
    "version": 2
   },
   "file_extension": ".py",
   "mimetype": "text/x-python",
   "name": "python",
   "nbconvert_exporter": "python",
   "pygments_lexer": "ipython2",
   "version": "2.7.6"
  }
 },
 "nbformat": 4,
 "nbformat_minor": 5
}
