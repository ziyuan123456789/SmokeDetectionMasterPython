{
 "cells": [
  {
   "cell_type": "code",
   "execution_count": null,
   "id": "initial_id",
   "metadata": {
    "collapsed": true
   },
   "outputs": [],
   "source": [
    "import jwt\n",
    "import base64\n",
    "from jwt.exceptions import InvalidSignatureError\n",
    "\n",
    "# 从Java环境复制的JWT\n",
    "jwt_token = 'YOUR_JWT_HERE'\n",
    "\n",
    "# 从Java环境复制的Base64编码的密钥\n",
    "encoded_key = 'YOUR_BASE64_ENCODED_SECRET_KEY_HERE'\n",
    "\n",
    "# Base64解码密钥\n",
    "decoded_key = base64.b64decode(encoded_key)\n",
    "\n",
    "try:\n",
    "    # 使用相同的HS512算法和解码后的密钥来验证JWT\n",
    "    decoded = jwt.decode(jwt_token, decoded_key, algorithms=[\"HS512\"])\n",
    "    print(\"JWT验证成功，载荷内容：\", decoded)\n",
    "except InvalidSignatureError:\n",
    "    print(\"JWT验证失败：密钥不匹配\")\n",
    "except Exception as e:\n",
    "    print(f\"JWT验证失败：{str(e)}\")\n"
   ]
  }
 ],
 "metadata": {
  "kernelspec": {
   "display_name": "Python 3",
   "language": "python",
   "name": "python3"
  },
  "language_info": {
   "codemirror_mode": {
    "name": "ipython",
    "version": 2
   },
   "file_extension": ".py",
   "mimetype": "text/x-python",
   "name": "python",
   "nbconvert_exporter": "python",
   "pygments_lexer": "ipython2",
   "version": "2.7.6"
  }
 },
 "nbformat": 4,
 "nbformat_minor": 5
}
