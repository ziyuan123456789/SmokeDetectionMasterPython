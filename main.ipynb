{
 "cells": [
  {
   "cell_type": "code",
   "execution_count": null,
   "id": "initial_id",
   "metadata": {
    "collapsed": true
   },
   "outputs": [],
   "source": [
    "from docx import Document\n",
    "\n",
    "def remove_blank_paragraphs(doc_path):\n",
    "    doc = Document(doc_path)\n",
    "    for paragraph in doc.paragraphs:\n",
    "        if not paragraph.text.strip():  # 检查段落是否为空\n",
    "            p = paragraph._element\n",
    "            p.getparent().remove(p)  # 删除空白段落\n",
    "\n",
    "    doc.save('modified_document.docx')\n",
    "\n",
    "remove_blank_paragraphs('your_document.docx')\n",
    "\n"
   ]
  }
 ],
 "metadata": {
  "kernelspec": {
   "display_name": "Python 3",
   "language": "python",
   "name": "python3"
  },
  "language_info": {
   "codemirror_mode": {
    "name": "ipython",
    "version": 2
   },
   "file_extension": ".py",
   "mimetype": "text/x-python",
   "name": "python",
   "nbconvert_exporter": "python",
   "pygments_lexer": "ipython2",
   "version": "2.7.6"
  }
 },
 "nbformat": 4,
 "nbformat_minor": 5
}
